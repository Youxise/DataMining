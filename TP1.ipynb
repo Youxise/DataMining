{
  "cells": [
    {
      "cell_type": "markdown",
      "source": [
        "# TP1 - Data Analysis\n",
        "MOULAI Mohamed Youcef, 191931089336, G4."
      ],
      "metadata": {
        "id": "3LI4CsKKfnVQ"
      },
      "id": "3LI4CsKKfnVQ"
    },
    {
      "cell_type": "markdown",
      "id": "9231c0f3",
      "metadata": {
        "id": "9231c0f3"
      },
      "source": [
        "1. Chargement du dataset"
      ]
    },
    {
      "cell_type": "code",
      "execution_count": 68,
      "id": "aa3f5f1b",
      "metadata": {
        "id": "aa3f5f1b"
      },
      "outputs": [],
      "source": [
        "def load(path):\n",
        "\n",
        "  with open(path, 'r') as file:\n",
        "    temp = file.read()\n",
        "  # separate rows\n",
        "  temp = temp.split(\"\\n\")\n",
        "  data = []\n",
        "  # separate columns\n",
        "  for elt in temp:\n",
        "    elt = elt.split(\",\")\n",
        "    data.append(elt)\n",
        "  return data"
      ]
    },
    {
      "cell_type": "code",
      "execution_count": 69,
      "id": "56f9835d",
      "metadata": {
        "colab": {
          "base_uri": "https://localhost:8080/"
        },
        "id": "56f9835d",
        "outputId": "738a77c8-3401-425b-e1b1-6c4646cd96da"
      },
      "outputs": [
        {
          "output_type": "execute_result",
          "data": {
            "text/plain": [
              "[['5.1', '3.5', '1.4', '0.2', 'Iris-setosa'],\n",
              " ['4.9', '3.0', '1.4', '0.2', 'Iris-setosa'],\n",
              " ['4.7', '3.2', '1.3', '0.2', 'Iris-setosa'],\n",
              " ['4.6', '3.1', '1.5', '0.2', 'Iris-setosa'],\n",
              " ['5.0', '3.6', '1.4', '0.2', 'Iris-setosa'],\n",
              " ['5.4', '3.9', '1.7', '0.4', 'Iris-setosa'],\n",
              " ['4.6', '3.4', '1.4', '0.3', 'Iris-setosa'],\n",
              " ['5.0', '3.4', '1.5', '0.2', 'Iris-setosa'],\n",
              " ['4.4', '2.9', '1.4', '0.2', 'Iris-setosa'],\n",
              " ['4.9', '3.1', '1.5', '0.1', 'Iris-setosa'],\n",
              " ['5.4', '3.7', '1.5', '0.2', 'Iris-setosa'],\n",
              " ['4.8', '3.4', '1.6', '0.2', 'Iris-setosa'],\n",
              " ['4.8', '3.0', '1.4', '0.1', 'Iris-setosa'],\n",
              " ['4.3', '3.0', '1.1', '0.1', 'Iris-setosa'],\n",
              " ['5.8', '4.0', '1.2', '0.2', 'Iris-setosa'],\n",
              " ['5.7', '4.4', '1.5', '0.4', 'Iris-setosa'],\n",
              " ['5.4', '3.9', '1.3', '0.4', 'Iris-setosa'],\n",
              " ['5.1', '3.5', '1.4', '0.3', 'Iris-setosa'],\n",
              " ['5.7', '3.8', '1.7', '0.3', 'Iris-setosa'],\n",
              " ['5.1', '3.8', '1.5', '0.3', 'Iris-setosa'],\n",
              " ['5.4', '3.4', '1.7', '0.2', 'Iris-setosa'],\n",
              " ['5.1', '3.7', '1.5', '0.4', 'Iris-setosa'],\n",
              " ['4.6', '3.6', '1.0', '0.2', 'Iris-setosa'],\n",
              " ['5.1', '3.3', '1.7', '0.5', 'Iris-setosa'],\n",
              " ['4.8', '3.4', '1.9', '0.2', 'Iris-setosa'],\n",
              " ['5.0', '3.0', '1.6', '0.2', 'Iris-setosa'],\n",
              " ['5.0', '3.4', '1.6', '0.4', 'Iris-setosa'],\n",
              " ['5.2', '3.5', '1.5', '0.2', 'Iris-setosa'],\n",
              " ['5.2', '3.4', '1.4', '0.2', 'Iris-setosa'],\n",
              " ['4.7', '3.2', '1.6', '0.2', 'Iris-setosa'],\n",
              " ['4.8', '3.1', '1.6', '0.2', 'Iris-setosa'],\n",
              " ['5.4', '3.4', '1.5', '0.4', 'Iris-setosa'],\n",
              " ['5.2', '4.1', '1.5', '0.1', 'Iris-setosa'],\n",
              " ['5.5', '4.2', '1.4', '0.2', 'Iris-setosa'],\n",
              " ['4.9', '3.1', '1.5', '0.1', 'Iris-setosa'],\n",
              " ['5.0', '3.2', '1.2', '0.2', 'Iris-setosa'],\n",
              " ['5.5', '3.5', '1.3', '0.2', 'Iris-setosa'],\n",
              " ['4.9', '3.1', '1.5', '0.1', 'Iris-setosa'],\n",
              " ['4.4', '3.0', '1.3', '0.2', 'Iris-setosa'],\n",
              " ['5.1', '3.4', '1.5', '0.2', 'Iris-setosa'],\n",
              " ['5.0', '3.5', '1.3', '0.3', 'Iris-setosa'],\n",
              " ['4.5', '2.3', '1.3', '0.3', 'Iris-setosa'],\n",
              " ['4.4', '3.2', '1.3', '0.2', 'Iris-setosa'],\n",
              " ['5.0', '3.5', '1.6', '0.6', 'Iris-setosa'],\n",
              " ['5.1', '3.8', '1.9', '0.4', 'Iris-setosa'],\n",
              " ['4.8', '3.0', '1.4', '0.3', 'Iris-setosa'],\n",
              " ['5.1', '3.8', '1.6', '0.2', 'Iris-setosa'],\n",
              " ['4.6', '3.2', '1.4', '0.2', 'Iris-setosa'],\n",
              " ['5.3', '3.7', '1.5', '0.2', 'Iris-setosa'],\n",
              " ['5.0', '3.3', '1.4', '0.2', 'Iris-setosa'],\n",
              " ['7.0', '3.2', '4.7', '1.4', 'Iris-versicolor'],\n",
              " ['6.4', '3.2', '4.5', '1.5', 'Iris-versicolor'],\n",
              " ['6.9', '3.1', '4.9', '1.5', 'Iris-versicolor'],\n",
              " ['5.5', '2.3', '4.0', '1.3', 'Iris-versicolor'],\n",
              " ['6.5', '2.8', '4.6', '1.5', 'Iris-versicolor'],\n",
              " ['5.7', '2.8', '4.5', '1.3', 'Iris-versicolor'],\n",
              " ['6.3', '3.3', '4.7', '1.6', 'Iris-versicolor'],\n",
              " ['4.9', '2.4', '3.3', '1.0', 'Iris-versicolor'],\n",
              " ['6.6', '2.9', '4.6', '1.3', 'Iris-versicolor'],\n",
              " ['5.2', '2.7', '3.9', '1.4', 'Iris-versicolor'],\n",
              " ['5.0', '2.0', '3.5', '1.0', 'Iris-versicolor'],\n",
              " ['5.9', '3.0', '4.2', '1.5', 'Iris-versicolor'],\n",
              " ['6.0', '2.2', '4.0', '1.0', 'Iris-versicolor'],\n",
              " ['6.1', '2.9', '4.7', '1.4', 'Iris-versicolor'],\n",
              " ['5.6', '2.9', '3.6', '1.3', 'Iris-versicolor'],\n",
              " ['6.7', '3.1', '4.4', '1.4', 'Iris-versicolor'],\n",
              " ['5.6', '3.0', '4.5', '1.5', 'Iris-versicolor'],\n",
              " ['5.8', '2.7', '4.1', '1.0', 'Iris-versicolor'],\n",
              " ['6.2', '2.2', '4.5', '1.5', 'Iris-versicolor'],\n",
              " ['5.6', '2.5', '3.9', '1.1', 'Iris-versicolor'],\n",
              " ['5.9', '3.2', '4.8', '1.8', 'Iris-versicolor'],\n",
              " ['6.1', '2.8', '4.0', '1.3', 'Iris-versicolor'],\n",
              " ['6.3', '2.5', '4.9', '1.5', 'Iris-versicolor'],\n",
              " ['6.1', '2.8', '4.7', '1.2', 'Iris-versicolor'],\n",
              " ['6.4', '2.9', '4.3', '1.3', 'Iris-versicolor'],\n",
              " ['6.6', '3.0', '4.4', '1.4', 'Iris-versicolor'],\n",
              " ['6.8', '2.8', '4.8', '1.4', 'Iris-versicolor'],\n",
              " ['6.7', '3.0', '5.0', '1.7', 'Iris-versicolor'],\n",
              " ['6.0', '2.9', '4.5', '1.5', 'Iris-versicolor'],\n",
              " ['5.7', '2.6', '3.5', '1.0', 'Iris-versicolor'],\n",
              " ['5.5', '2.4', '3.8', '1.1', 'Iris-versicolor'],\n",
              " ['5.5', '2.4', '3.7', '1.0', 'Iris-versicolor'],\n",
              " ['5.8', '2.7', '3.9', '1.2', 'Iris-versicolor'],\n",
              " ['6.0', '2.7', '5.1', '1.6', 'Iris-versicolor'],\n",
              " ['5.4', '3.0', '4.5', '1.5', 'Iris-versicolor'],\n",
              " ['6.0', '3.4', '4.5', '1.6', 'Iris-versicolor'],\n",
              " ['6.7', '3.1', '4.7', '1.5', 'Iris-versicolor'],\n",
              " ['6.3', '2.3', '4.4', '1.3', 'Iris-versicolor'],\n",
              " ['5.6', '3.0', '4.1', '1.3', 'Iris-versicolor'],\n",
              " ['5.5', '2.5', '4.0', '1.3', 'Iris-versicolor'],\n",
              " ['5.5', '2.6', '4.4', '1.2', 'Iris-versicolor'],\n",
              " ['6.1', '3.0', '4.6', '1.4', 'Iris-versicolor'],\n",
              " ['5.8', '2.6', '4.0', '1.2', 'Iris-versicolor'],\n",
              " ['5.0', '2.3', '3.3', '1.0', 'Iris-versicolor'],\n",
              " ['5.6', '2.7', '4.2', '1.3', 'Iris-versicolor'],\n",
              " ['5.7', '3.0', '4.2', '1.2', 'Iris-versicolor'],\n",
              " ['5.7', '2.9', '4.2', '1.3', 'Iris-versicolor'],\n",
              " ['6.2', '2.9', '4.3', '1.3', 'Iris-versicolor'],\n",
              " ['5.1', '2.5', '3.0', '1.1', 'Iris-versicolor'],\n",
              " ['5.7', '2.8', '4.1', '1.3', 'Iris-versicolor'],\n",
              " ['6.3', '3.3', '6.0', '2.5', 'Iris-virginica'],\n",
              " ['5.8', '2.7', '5.1', '1.9', 'Iris-virginica'],\n",
              " ['7.1', '3.0', '5.9', '2.1', 'Iris-virginica'],\n",
              " ['6.3', '2.9', '5.6', '1.8', 'Iris-virginica'],\n",
              " ['6.5', '3.0', '5.8', '2.2', 'Iris-virginica'],\n",
              " ['7.6', '3.0', '6.6', '2.1', 'Iris-virginica'],\n",
              " ['4.9', '2.5', '4.5', '1.7', 'Iris-virginica'],\n",
              " ['7.3', '2.9', '6.3', '1.8', 'Iris-virginica'],\n",
              " ['6.7', '2.5', '5.8', '1.8', 'Iris-virginica'],\n",
              " ['7.2', '3.6', '6.1', '2.5', 'Iris-virginica'],\n",
              " ['6.5', '3.2', '5.1', '2.0', 'Iris-virginica'],\n",
              " ['6.4', '2.7', '5.3', '1.9', 'Iris-virginica'],\n",
              " ['6.8', '3.0', '5.5', '2.1', 'Iris-virginica'],\n",
              " ['5.7', '2.5', '5.0', '2.0', 'Iris-virginica'],\n",
              " ['5.8', '2.8', '5.1', '2.4', 'Iris-virginica'],\n",
              " ['6.4', '3.2', '5.3', '2.3', 'Iris-virginica'],\n",
              " ['6.5', '3.0', '5.5', '1.8', 'Iris-virginica'],\n",
              " ['7.7', '3.8', '6.7', '2.2', 'Iris-virginica'],\n",
              " ['7.7', '2.6', '6.9', '2.3', 'Iris-virginica'],\n",
              " ['6.0', '2.2', '5.0', '1.5', 'Iris-virginica'],\n",
              " ['6.9', '3.2', '5.7', '2.3', 'Iris-virginica'],\n",
              " ['5.6', '2.8', '4.9', '2.0', 'Iris-virginica'],\n",
              " ['7.7', '2.8', '6.7', '2.0', 'Iris-virginica'],\n",
              " ['6.3', '2.7', '4.9', '1.8', 'Iris-virginica'],\n",
              " ['6.7', '3.3', '5.7', '2.1', 'Iris-virginica'],\n",
              " ['7.2', '3.2', '6.0', '1.8', 'Iris-virginica'],\n",
              " ['6.2', '2.8', '4.8', '1.8', 'Iris-virginica'],\n",
              " ['6.1', '3.0', '4.9', '1.8', 'Iris-virginica'],\n",
              " ['6.4', '2.8', '5.6', '2.1', 'Iris-virginica'],\n",
              " ['7.2', '3.0', '5.8', '1.6', 'Iris-virginica'],\n",
              " ['7.4', '2.8', '6.1', '1.9', 'Iris-virginica'],\n",
              " ['7.9', '3.8', '6.4', '2.0', 'Iris-virginica'],\n",
              " ['6.4', '2.8', '5.6', '2.2', 'Iris-virginica'],\n",
              " ['6.3', '2.8', '5.1', '1.5', 'Iris-virginica'],\n",
              " ['6.1', '2.6', '5.6', '1.4', 'Iris-virginica'],\n",
              " ['7.7', '3.0', '6.1', '2.3', 'Iris-virginica'],\n",
              " ['6.3', '3.4', '5.6', '2.4', 'Iris-virginica'],\n",
              " ['6.4', '3.1', '5.5', '1.8', 'Iris-virginica'],\n",
              " ['6.0', '3.0', '4.8', '1.8', 'Iris-virginica'],\n",
              " ['6.9', '3.1', '5.4', '2.1', 'Iris-virginica'],\n",
              " ['6.7', '3.1', '5.6', '2.4', 'Iris-virginica'],\n",
              " ['6.9', '3.1', '5.1', '2.3', 'Iris-virginica'],\n",
              " ['5.8', '2.7', '5.1', '1.9', 'Iris-virginica'],\n",
              " ['6.8', '3.2', '5.9', '2.3', 'Iris-virginica'],\n",
              " ['6.7', '3.3', '5.7', '2.5', 'Iris-virginica'],\n",
              " ['6.7', '3.0', '5.2', '2.3', 'Iris-virginica'],\n",
              " ['6.3', '2.5', '5.0', '1.9', 'Iris-virginica'],\n",
              " ['6.5', '3.0', '5.2', '2.0', 'Iris-virginica'],\n",
              " ['6.2', '3.4', '5.4', '2.3', 'Iris-virginica'],\n",
              " ['5.9', '3.0', '5.1', '1.8', 'Iris-virginica']]"
            ]
          },
          "metadata": {},
          "execution_count": 69
        }
      ],
      "source": [
        "data = load(\"/content/Dataset-Exos.txt\")\n",
        "data.pop(-1)\n",
        "data"
      ]
    },
    {
      "cell_type": "markdown",
      "source": [
        "2. Informations sur le dataset"
      ],
      "metadata": {
        "id": "bnnokR7SLO6c"
      },
      "id": "bnnokR7SLO6c"
    },
    {
      "cell_type": "code",
      "source": [
        "def infos(data):\n",
        "\n",
        "  rowCount = len(data) # number of rows\n",
        "  colCount = len(data[0]) # number of cols\n",
        "\n",
        "  return rowCount, colCount"
      ],
      "metadata": {
        "id": "iMAuKbfjLOAh"
      },
      "id": "iMAuKbfjLOAh",
      "execution_count": 70,
      "outputs": []
    },
    {
      "cell_type": "code",
      "source": [
        "rows, cols = infos(data)\n",
        "print(\"number of rows is\", rows, \"\\nnumber of columns is\", cols)"
      ],
      "metadata": {
        "colab": {
          "base_uri": "https://localhost:8080/"
        },
        "id": "mz94nDvmep3Y",
        "outputId": "b6e24f30-e566-4766-d984-2a54e243208f"
      },
      "id": "mz94nDvmep3Y",
      "execution_count": 71,
      "outputs": [
        {
          "output_type": "stream",
          "name": "stdout",
          "text": [
            "number of rows is 150 \n",
            "number of columns is 5\n"
          ]
        }
      ]
    },
    {
      "cell_type": "markdown",
      "source": [
        "3. Tendances centrales d'un attribut"
      ],
      "metadata": {
        "id": "QxChutIPfIjA"
      },
      "id": "QxChutIPfIjA"
    },
    {
      "cell_type": "code",
      "source": [
        "def tendances(data, attribut):\n",
        "  # out of range attribute\n",
        "  if attribut >= len(data[0]):\n",
        "    return 0, 0, 0\n",
        "  # init variables\n",
        "  moyenne = 0\n",
        "  sortedElts = []\n",
        "  # calculating sum & sorting elements\n",
        "  for elt in data:\n",
        "    # alphabetic values case --> return null\n",
        "    if any(char.isalpha() for char in elt[attribut]):\n",
        "      return 0, 0, 0\n",
        "    numb = float(elt[attribut])\n",
        "    moyenne = moyenne + numb\n",
        "    sortedElts.append(numb)\n",
        "\n",
        "  sortedElts.sort()\n",
        "  # calculating mean, mediane & mode\n",
        "  moyenne = moyenne / len(data)\n",
        "  mediane = sortedElts[int(len(sortedElts)/2)]\n",
        "  mode = max(sortedElts, key=sortedElts.count)\n",
        "\n",
        "  return mode, mediane, moyenne"
      ],
      "metadata": {
        "id": "rNEuawcLPWBI"
      },
      "id": "rNEuawcLPWBI",
      "execution_count": 72,
      "outputs": []
    },
    {
      "cell_type": "code",
      "source": [
        "mode, mediane, moyenne = tendances(data, 3)\n",
        "print(\"mode =\", mode, \"\\nmediane =\", mediane, \"\\nmean =\", moyenne)\n"
      ],
      "metadata": {
        "colab": {
          "base_uri": "https://localhost:8080/"
        },
        "id": "xHHCEnCkSX6B",
        "outputId": "d1ec92ba-8035-407a-8dcd-989308358737"
      },
      "id": "xHHCEnCkSX6B",
      "execution_count": 73,
      "outputs": [
        {
          "output_type": "stream",
          "name": "stdout",
          "text": [
            "mode = 0.2 \n",
            "mediane = 1.3 \n",
            "mean = 1.1986666666666672\n"
          ]
        }
      ]
    },
    {
      "cell_type": "markdown",
      "source": [
        "4. Quartiles d'un attribut"
      ],
      "metadata": {
        "id": "cOYf2phCYkb0"
      },
      "id": "cOYf2phCYkb0"
    },
    {
      "cell_type": "code",
      "source": [
        "def resume(data, attribut):\n",
        "\n",
        "  resume = []\n",
        "  # out of range attribute\n",
        "  if attribut >= len(data[0]):\n",
        "    return resume\n",
        "  # init variables\n",
        "  sortedElts = []\n",
        "  # sorting elements\n",
        "  for elt in data:\n",
        "    # alphabetic values case --> return null\n",
        "    if any(char.isalpha() for char in elt[attribut]):\n",
        "      return resume\n",
        "    numb = float(elt[attribut])\n",
        "    sortedElts.append(numb)\n",
        "  sortedElts.sort()\n",
        "  # calculating quartiles\n",
        "  resume.append(min(sortedElts))                      # Q1 = min\n",
        "  resume.append(sortedElts[int(len(sortedElts)/4)])   # Q2\n",
        "  resume.append(sortedElts[int(len(sortedElts)/2)])   # Q3 = mediane\n",
        "  resume.append(sortedElts[int(len(sortedElts)*3/4)]) # Q4\n",
        "  resume.append(max(sortedElts))                      # Q5 = max\n",
        "  return resume"
      ],
      "metadata": {
        "id": "gOEk4ED8Se5v"
      },
      "id": "gOEk4ED8Se5v",
      "execution_count": 74,
      "outputs": []
    },
    {
      "cell_type": "code",
      "source": [
        "quartiles = resume(data, 2)\n",
        "quartiles"
      ],
      "metadata": {
        "id": "Bz1Pufjkp3kl",
        "colab": {
          "base_uri": "https://localhost:8080/"
        },
        "outputId": "32b6c663-eec1-4cd0-d23d-13839f0b9bc4"
      },
      "id": "Bz1Pufjkp3kl",
      "execution_count": 75,
      "outputs": [
        {
          "output_type": "execute_result",
          "data": {
            "text/plain": [
              "[1.0, 1.6, 4.4, 5.1, 6.9]"
            ]
          },
          "metadata": {},
          "execution_count": 75
        }
      ]
    },
    {
      "cell_type": "markdown",
      "source": [
        "5. Valeurs manquantes d'un attribut"
      ],
      "metadata": {
        "id": "tvTrp0EKajLR"
      },
      "id": "tvTrp0EKajLR"
    },
    {
      "cell_type": "code",
      "source": [
        "def missingValues(data, attribut):\n",
        "  # out of range attribute\n",
        "  if attribut >= len(data[0]):\n",
        "    return 0, 0\n",
        "  # init variables\n",
        "  counter = 0\n",
        "  for elt in data:\n",
        "    # empty cases\n",
        "    if elt[attribut] == '':\n",
        "      counter += 1\n",
        "  percentage = counter/len(data)\n",
        "\n",
        "  return counter, percentage"
      ],
      "metadata": {
        "id": "Tsmi8z1zaXa5"
      },
      "id": "Tsmi8z1zaXa5",
      "execution_count": 76,
      "outputs": []
    },
    {
      "cell_type": "code",
      "source": [
        "values, per = missingValues(data, 1)\n",
        "print(values, \"missing values,\", per, \"%\")"
      ],
      "metadata": {
        "colab": {
          "base_uri": "https://localhost:8080/"
        },
        "id": "6ajHQc-uc2c4",
        "outputId": "3f9a1712-9a5a-47f3-be63-8b519e9ddfbc"
      },
      "id": "6ajHQc-uc2c4",
      "execution_count": 77,
      "outputs": [
        {
          "output_type": "stream",
          "name": "stdout",
          "text": [
            "0 missing values, 0.0 %\n"
          ]
        }
      ]
    }
  ],
  "metadata": {
    "kernelspec": {
      "display_name": "Python 3 (ipykernel)",
      "language": "python",
      "name": "python3"
    },
    "language_info": {
      "codemirror_mode": {
        "name": "ipython",
        "version": 3
      },
      "file_extension": ".py",
      "mimetype": "text/x-python",
      "name": "python",
      "nbconvert_exporter": "python",
      "pygments_lexer": "ipython3",
      "version": "3.11.2"
    },
    "colab": {
      "provenance": []
    }
  },
  "nbformat": 4,
  "nbformat_minor": 5
}